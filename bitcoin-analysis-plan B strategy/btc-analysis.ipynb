{
 "nbformat": 4,
 "nbformat_minor": 2,
 "metadata": {
  "language_info": {
   "name": "python",
   "codemirror_mode": {
    "name": "ipython",
    "version": 3
   },
   "version": "3.8.1-final"
  },
  "orig_nbformat": 2,
  "file_extension": ".py",
  "mimetype": "text/x-python",
  "name": "python",
  "npconvert_exporter": "python",
  "pygments_lexer": "ipython3",
  "version": 3,
  "kernelspec": {
   "name": "python38132bitd3bc09b3c8974684859eb2836ff2aae1",
   "display_name": "Python 3.8.1 32-bit"
  }
 },
 "cells": [
  {
   "cell_type": "markdown",
   "execution_count": null,
   "metadata": {},
   "outputs": [],
   "source": [
    "# Intro\n",
    "The purpose of this work is to replicate the results by PlanB in his article \"Modeling Bitcoin's Value with Scarcity\":\n",
    "\n",
    "https://medium.com/@100trillionUSD/modeling-bitcoins-value-with-scarcity-91fa0fc03e25\n",
    "\n",
    "PlanB's GitHub page:\n",
    "\n",
    "https://github.com/100trillionUSD\n",
    "\n",
    "# Data\n",
    "\n",
    "The dataset used in this exercise has been obtained as I explained in this other [Jupyter notebook](https://github.com/raulcano/bitcoin-analysis/blob/master/btc-dataset.ipynb).\n",
    "\n",
    "I have purposedly used a different set than the one shared by PlanB in his GitHub page, in order to corroborate that there is no particular bias in the sources used by him.\n",
    "\n",
    "Additionally, I  used a total of 1158 datapoints, in contrast with the 111 used by PlanB in the original article.\n",
    " \n",
    "This is due to the granularity of the dataset, that is, I have used information on BTC prices and available supply almost on a daily basis (in particular, once every 3 days)."
   ]
  },
  {
   "cell_type": "markdown",
   "execution_count": null,
   "metadata": {},
   "outputs": [],
   "source": [
    "# Import libraries"
   ]
  },
  {
   "cell_type": "code",
   "execution_count": null,
   "metadata": {},
   "outputs": [],
   "source": [
    "!pip install sklearn\n",
    "!pip install seaborn\n",
    "\n",
    "import pandas as pd\n",
    "import numpy as np\n",
    "import matplotlib.pyplot as plt\n",
    "import matplotlib.ticker as ticker\n",
    "from sklearn.linear_model import LinearRegression\n",
    "from sklearn.model_selection import train_test_split\n",
    "from sklearn import metrics\n",
    "import seaborn as seabornInstance\n",
    "import math\n",
    "from datetime import timedelta\n",
    "\n",
    "print('Libraries imported')"
   ]
  },
  {
   "cell_type": "markdown",
   "execution_count": null,
   "metadata": {},
   "outputs": [],
   "source": [
    "# Building the dataframe\n",
    "## Load dataframe from CSV file and remove unnecessary columns\n",
    "\n",
    "Available columns are:\n",
    "\n",
    "*id, hash, time, median_time, size, stripped_size, weight, version, version_hex, version_bits, merkle_root, nonce, bits, difficulty, chainwork, coinbase_data_hex, transaction_count, witness_count, input_count, output_count, input_total, input_total_usd, output_total, output_total_usd, fee_total, fee_total_usd, fee_per_kb, fee_per_kb_usd, fee_per_kwu, fee_per_kwu_usd, cdd_total, generation, generation_usd, reward, reward_usd, guessed_miner*"
   ]
  },
  {
   "cell_type": "code",
   "execution_count": null,
   "metadata": {},
   "outputs": [],
   "source": [
    "BLOCKS_DOWNLOAD_DIR = './blocks/'\n",
    "ALL_BLOCKS_CSV = 'all_blocks.csv'\n",
    "\n",
    "df = pd.read_csv(BLOCKS_DOWNLOAD_DIR + ALL_BLOCKS_CSV)\n",
    "keep_col = ['id','time','generation']\n",
    "df = df[keep_col]\n",
    "df.head()\n",
    "\n",
    "# If we want to save the new CSV with a subset of the columns to save memory loading next time\n",
    "# df.to_csv(BLOCKS_DOWNLOAD_DIR + \"all-blocks-reduced.csv\", index=False)"
   ]
  },
  {
   "cell_type": "markdown",
   "execution_count": null,
   "metadata": {},
   "outputs": [],
   "source": [
    "## Let's get some info about the dataset"
   ]
  },
  {
   "cell_type": "code",
   "execution_count": null,
   "metadata": {},
   "outputs": [],
   "source": [
    "print(df.dtypes)\n",
    "print(df.shape)"
   ]
  },
  {
   "cell_type": "markdown",
   "execution_count": null,
   "metadata": {},
   "outputs": [],
   "source": [
    "## Remove potential duplicates based on the block ID\n",
    "\n",
    "This is to avoid any potential duplication errors when obtaining the data"
   ]
  },
  {
   "cell_type": "code",
   "execution_count": null,
   "metadata": {},
   "outputs": [],
   "source": [
    "df.drop_duplicates(subset=['id'], keep='first', inplace=True)\n",
    "df.reset_index(drop=True, inplace=True)\n",
    "df.head()"
   ]
  },
  {
   "cell_type": "code",
   "execution_count": null,
   "metadata": {},
   "outputs": [],
   "source": [
    "df_orig = df\n",
    "\n",
    "#df = df_orig"
   ]
  },
  {
   "cell_type": "markdown",
   "execution_count": null,
   "metadata": {},
   "outputs": [],
   "source": [
    "## Add column with the day each block was created\n",
    "\n"
   ]
  },
  {
   "cell_type": "code",
   "execution_count": null,
   "metadata": {},
   "outputs": [],
   "source": [
    "df['date'] = pd.to_datetime(df['time'])\n",
    "\n",
    "df['date'] = df['date'].dt.date\n",
    "\n",
    "df.head()"
   ]
  },
  {
   "cell_type": "markdown",
   "execution_count": null,
   "metadata": {},
   "outputs": [],
   "source": [
    "## Group rows by day, add new calculated columns\n",
    "\n",
    "Each row represents one day, with these new fields: \n",
    "- *btc_1day*: counts the BTC generated that day\n",
    "- *btc_365days*: counts the BTC generated the last 365 days\n",
    "- *total_btc*: represents the total number of BTC existing until that day\n",
    "- *sf_365days*: represents the stock-to-flow in the last 365 days\n",
    "- *ln_sf_365days*: the natural logarithm of SF 365\n",
    "- *month*: the month column will be useful for some plotting later"
   ]
  },
  {
   "cell_type": "code",
   "execution_count": null,
   "metadata": {},
   "outputs": [],
   "source": [
    "df = df.groupby(['date']).agg(\n",
    "    btc_1day = pd.NamedAgg(column='generation', aggfunc='sum'),\n",
    "    daily_blocks =  pd.NamedAgg(column='date', aggfunc='count'),    \n",
    "    ).reset_index()\n",
    "\n",
    "# change from satoshis to BTC\n",
    "df['btc_1day'] = df['btc_1day']/100000000\n",
    "\n",
    "df['total_btc'] = df['btc_1day'].cumsum()\n",
    "df['total_blocks'] = df['daily_blocks'].cumsum()\n",
    "df['btc_365days'] = df['btc_1day'].rolling(min_periods=1, window=366).sum()\n",
    "df['sf_365days'] = df['total_btc']/df['btc_365days']\n",
    "\n",
    "df['ln_sf_365days'] = np.log(df['sf_365days']) # natural log of SF 365\n",
    "\n",
    "df['month'] = pd.to_datetime(df['date'])\n",
    "df['month'] = df['month'].dt.strftime('%Y-%m')\n",
    "\n",
    "df.head(20)"
   ]
  },
  {
   "cell_type": "markdown",
   "execution_count": null,
   "metadata": {},
   "outputs": [],
   "source": [
    "## Add weighted BTC price\n",
    "\n",
    "New fields: \n",
    "- *price*: weighted btc price weighted of that day\n",
    "- *ln_price*: natural logarithm of the price\n",
    "- *market_cap*: market value of all btc\n",
    "- *ln_market_cap*: natural logarithm of the market cap"
   ]
  },
  {
   "cell_type": "code",
   "execution_count": null,
   "metadata": {},
   "outputs": [],
   "source": [
    "PRICE_DOWNLOAD_DIR = './price/'\n",
    "ALL_PRICES_CSV = 'market-price-3day-interval.csv'\n",
    "\n",
    "df_prices = pd.read_csv(PRICE_DOWNLOAD_DIR + ALL_PRICES_CSV, header=None, names=['date', 'price'])\n",
    "df_prices['date'] = pd.to_datetime(df_prices['date'], format = '%d-%m-%y %H:%M')\n",
    "\n",
    "df_prices['date'] = df_prices['date'].dt.date\n",
    "\n",
    "df = pd.merge(df, df_prices, on='date', how='left')\n",
    "df['ln_price'] = np.log(df['price'])\n",
    "df['market_cap'] = df['price'] * df['total_btc']\n",
    "df['ln_market_cap'] = np.log(df['market_cap'])\n",
    "\n",
    "df.head()"
   ]
  },
  {
   "cell_type": "markdown",
   "execution_count": null,
   "metadata": {},
   "outputs": [],
   "source": [
    "## Check distribution of NaN values\n",
    "\n",
    "Because the data source we used gives a price every 3 days we have several NaN values in the price.\n",
    "\n",
    "Also, the LN calculation with a price value of 0 results in -Infinite; this happens during the first months of BTC, in which no actual price quote was available.\n",
    "\n",
    "We will replace all +-Inf values with NaN, and then plot the distribution of those values per date to see where we are missing more datapoints. It is expected that the first months of BTC will have less information about that.\n"
   ]
  },
  {
   "cell_type": "code",
   "execution_count": null,
   "metadata": {},
   "outputs": [],
   "source": [
    "df = df.replace([np.inf, -np.inf], np.nan)\n",
    "\n",
    "# we create a dataframe subset only with the rows that DO have a NaN value\n",
    "df_NaN = df[df.isnull().any(1)]\n",
    "print('There are ' + str(df_NaN.shape[0]) + ' rows that contain at least one NaN value, from a total of ' + str(df.shape[0]) + ' rows')\n",
    "\n",
    "# lets plot an histogram of those NaN values gruped by date\n",
    "df_NaN = df_NaN.groupby(['month']).agg(\n",
    "    monthly_NaN =  pd.NamedAgg(column='month', aggfunc='count'),\n",
    "    ).reset_index()\n",
    "    "
   ]
  },
  {
   "cell_type": "code",
   "execution_count": null,
   "metadata": {},
   "outputs": [],
   "source": [
    "fig = plt.figure()\n",
    "ax = fig.add_axes([0, 0, 1, 1]) # main axes\n",
    "ax.plot(df_NaN['month'], df_NaN['monthly_NaN'])\n",
    "ax.set_title('Distribution of NaN values across time')\n",
    "ax.set_xlabel('Date')\n",
    "ax.set_xticks(['2009-01','2010-01','2011-01','2012-01','2013-01','2014-01','2015-01','2016-01','2017-01','2018-01','2019-01','2020-01'])\n",
    "ax.set_xticklabels(['2009','2010','2011','2012','2013','2014','2015','2016','2017','2018','2019','2020'])\n",
    "ax.set_ylabel('Number of NaN values per month')\n",
    "plt.grid(True, which=\"both\")\n",
    "plt.show()\n"
   ]
  },
  {
   "cell_type": "markdown",
   "execution_count": null,
   "metadata": {},
   "outputs": [],
   "source": [
    "![Stock-to-flow model for bitcoin price](images/1-distribution-nan.png)"
   ]
  },
  {
   "cell_type": "markdown",
   "execution_count": null,
   "metadata": {},
   "outputs": [],
   "source": [
    "## Remove NaN values and count total datapoints\n",
    "We will ignore NaN datapoints in our calculation."
   ]
  },
  {
   "cell_type": "code",
   "execution_count": 31,
   "metadata": {},
   "outputs": [
    {
     "name": "stdout",
     "output_type": "stream",
     "text": "Total datapoints: 1158\n"
    }
   ],
   "source": [
    "df = df.dropna()\n",
    "print('Total datapoints: ' + str(df.shape[0]))"
   ]
  },
  {
   "cell_type": "markdown",
   "execution_count": null,
   "metadata": {},
   "outputs": [],
   "source": [
    "# Plotting the data"
   ]
  },
  {
   "cell_type": "code",
   "execution_count": null,
   "metadata": {},
   "outputs": [],
   "source": [
    "#Text box with the credits\n",
    "propstext = 'Model by PlanB, @100trillionUSD\\n Chart by Raúl Cano, @rcanoarg'\n",
    "propsbox = dict(boxstyle='round', facecolor='white', alpha=0.5)"
   ]
  },
  {
   "cell_type": "markdown",
   "execution_count": null,
   "metadata": {},
   "outputs": [],
   "source": [
    "## Linear scales"
   ]
  },
  {
   "cell_type": "code",
   "execution_count": null,
   "metadata": {},
   "outputs": [],
   "source": [
    "colors=['b', 'c', 'y', 'm', 'r']\n",
    "fig = plt.figure()\n",
    "ax = fig.add_axes([0, 0, 1, 1]) # main axes\n",
    "ax.scatter(df['sf_365days'], df['market_cap'], marker='o', color=colors[4])\n",
    "ax.set_title('SF vs Market capitalization')\n",
    "ax.set_xlabel('Stock-to-flow (scarcity)')\n",
    "ax.set_ylabel('Market capitalization')\n",
    "\n",
    "#ax.get_yaxis().set_major_formatter(ticker.FuncFormatter(lambda x, p: format(int(x), ',')))\n",
    "format = '${x:,.0f}'\n",
    "tick = ticker.StrMethodFormatter(format)\n",
    "ax.yaxis.set_major_formatter(tick) \n",
    "plt.grid(True, which=\"both\")\n",
    "\n",
    "# place the credits\n",
    "ax.text(0.1, 0.15, propstext, transform=ax.transAxes, fontsize=10,\n",
    "    verticalalignment='bottom', bbox=propsbox)\n",
    "\n",
    "plt.show()\n"
   ]
  },
  {
   "cell_type": "markdown",
   "execution_count": null,
   "metadata": {},
   "outputs": [],
   "source": [
    "![Stock-to-flow model for bitcoin price](images/2-sf-v-marketcap.png)"
   ]
  },
  {
   "cell_type": "markdown",
   "execution_count": null,
   "metadata": {},
   "outputs": [],
   "source": [
    "## Log-log scales"
   ]
  },
  {
   "cell_type": "code",
   "execution_count": null,
   "metadata": {},
   "outputs": [],
   "source": [
    "fig = plt.figure()\n",
    "ax = fig.add_axes([0, 0, 1, 1]) # main axes\n",
    "ax.loglog(df['sf_365days'], df['market_cap'], marker='o', color=colors[0])\n",
    "ax.set_title('SF vs Market capitalization (logarithmic scales)')\n",
    "ax.set_xlabel('Stock-to-flow (scarcity)')\n",
    "\n",
    "ax.set_ylabel('Market capitalization')\n",
    "#ax.get_yaxis().set_major_formatter(ticker.FuncFormatter(lambda x, p: format(int(x), ',')))\n",
    "format = '${x:,.0f}'\n",
    "tick = ticker.StrMethodFormatter(format)\n",
    "ax.yaxis.set_major_formatter(tick)\n",
    "\n",
    "ax.set_xlim([0,100])\n",
    "ax.set_ylim([0,1000000000000])\n",
    "\n",
    "# place the credits\n",
    "ax.text(0.59, 0.05, propstext, transform=ax.transAxes, fontsize=10,\n",
    "    verticalalignment='bottom', bbox=propsbox)\n",
    "\n",
    "plt.grid(True, which=\"both\")\n",
    "plt.show()"
   ]
  },
  {
   "cell_type": "markdown",
   "execution_count": null,
   "metadata": {},
   "outputs": [],
   "source": [
    "![Stock-to-flow model for bitcoin price](images/3-sf-v-marketcap-ln.png)"
   ]
  },
  {
   "cell_type": "markdown",
   "execution_count": null,
   "metadata": {},
   "outputs": [],
   "source": [
    "# Linear regression\n",
    "\n",
    "As we can see with the naked eye, there seems to be a  linear relationship between ln(SF) and ln(market cap).\n",
    "\n",
    "Next, we will do a linear regression to obtain such relationship (using 90% of our dataset) and test it for errors against a test set (10% of our data)."
   ]
  },
  {
   "cell_type": "code",
   "execution_count": 30,
   "metadata": {},
   "outputs": [
    {
     "name": "stdout",
     "output_type": "stream",
     "text": "The linear function derived from the model is:\nln(Market cap) = 3.56*ln(SF) + 14.09\n"
    }
   ],
   "source": [
    "X = df['ln_sf_365days'].values.reshape(-1,1)\n",
    "y = df['ln_market_cap'].values.reshape(-1,1)\n",
    "\n",
    "# split the dataset into traing and test sets\n",
    "X_train, X_test, y_train, y_test = train_test_split(X, y, test_size=0.1, random_state=0)\n",
    "\n",
    "regressor = LinearRegression()  \n",
    "regressor.fit(X_train, y_train) #training the algorithm\n",
    "\n",
    "print('The linear function derived from the model is:')\n",
    "print('ln(Market cap) = ' + str(round(regressor.coef_[0][0],2)) + '*ln(SF) + ' + str(round(regressor.intercept_[0],2)))"
   ]
  },
  {
   "cell_type": "code",
   "execution_count": null,
   "metadata": {},
   "outputs": [],
   "source": [
    "# Let's test the model with predictions\n",
    "y_pred = regressor.predict(X_test)\n",
    "\n",
    "df_linearR = pd.DataFrame({'Actual': y_test.flatten(), 'Predicted': y_pred.flatten()})\n",
    "df_linearR\n"
   ]
  },
  {
   "cell_type": "code",
   "execution_count": null,
   "metadata": {},
   "outputs": [],
   "source": [
    "fig = plt.figure()\n",
    "ax = fig.add_axes([0, 0, 1, 1]) # main axes\n",
    "ax.scatter(X_test, y_test, color='gray')\n",
    "ax.plot(X_test, y_pred, color='red', linewidth=2)\n",
    "\n",
    "ax.set_title('Linear fit of test set')\n",
    "ax.legend(('predicted market cap (ln)','actual market cap (ln)'),\n",
    "    loc=\"upper left\",\n",
    "    ncol=1,\n",
    "    fontsize=10)\n",
    "\n",
    "\n",
    "ax.set_xlabel('ln(Stock-to-flow)')\n",
    "ax.set_ylabel('ln(Market capitalization)')\n",
    "\n",
    "#Text box\n",
    "textstr = 'R2 score: ' + str(round(metrics.r2_score(y_test, y_pred),4)*100) + '%'\n",
    "box = dict(boxstyle='round', facecolor='beige', alpha=0.5)\n",
    "# place a text box\n",
    "ax.text(0.59, 0.18, textstr, transform=ax.transAxes, fontsize=15,\n",
    "    verticalalignment='bottom', bbox=box)\n",
    "# place the credits\n",
    "ax.text(0.59, 0.05, propstext, transform=ax.transAxes, fontsize=10,\n",
    "    verticalalignment='bottom', bbox=propsbox)\n",
    "\n",
    "\n",
    "plt.grid(True, which=\"both\")\n",
    "plt.show()\n"
   ]
  },
  {
   "cell_type": "markdown",
   "execution_count": null,
   "metadata": {},
   "outputs": [],
   "source": [
    "![Stock-to-flow model for bitcoin price](images/4-linear-fit.png)"
   ]
  },
  {
   "cell_type": "markdown",
   "execution_count": null,
   "metadata": {},
   "outputs": [],
   "source": [
    "# Metrics of the model\n",
    "In order to evaluate the performance of the algorithm we use the following metrics which are commonly used:\n",
    "\n",
    "- Mean Absolute Error (MAE), which is the mean of the absolute value of the errors.\n",
    "- Mean Squared Error (MSE), which is the mean of the squared errors.\n",
    "- Root Mean Squared Error (RMSE), which is the square root of the mean of the squared errors.\n",
    "- Coefficient of determination (R2), which mathematically describes the strength of a correlation between two variables."
   ]
  },
  {
   "cell_type": "code",
   "execution_count": 29,
   "metadata": {},
   "outputs": [
    {
     "name": "stdout",
     "output_type": "stream",
     "text": "Mean Absolute Error: 0.5830507922058059\nMean Squared Error: 0.7100496135652934\nRoot Mean Squared Error: 0.8426444170379896\nCoefficient of determination:  0.9378339336027857\n"
    }
   ],
   "source": [
    "print('Mean Absolute Error:', metrics.mean_absolute_error(y_test, y_pred))\n",
    "print('Mean Squared Error:', metrics.mean_squared_error(y_test, y_pred))  \n",
    "print('Root Mean Squared Error:', np.sqrt(metrics.mean_squared_error(y_test, y_pred)))\n",
    "print('Coefficient of determination: ', metrics.r2_score(y_test, y_pred))"
   ]
  },
  {
   "cell_type": "markdown",
   "execution_count": null,
   "metadata": {},
   "outputs": [],
   "source": [
    "# Applying the model to our dataframe"
   ]
  },
  {
   "cell_type": "code",
   "execution_count": null,
   "metadata": {},
   "outputs": [],
   "source": [
    "df['predicted_ln_market_cap'] = regressor.coef_[0][0] * df['ln_sf_365days'] + regressor.intercept_[0]\n",
    "df['predicted_market_cap'] = np.exp(df['predicted_ln_market_cap'])\n",
    "df['predicted_price'] = df['predicted_market_cap'] / df['total_btc']\n",
    "df['ln_predicted_price'] = np.log(df['predicted_price'])\n",
    "df['abs_error'] = abs(df['predicted_price'] - df['price'])\n",
    "df['percentage_error'] = df['abs_error'] / df['price']\n",
    "\n",
    "df['abs_error_ln'] = abs(df['ln_price'] - df['ln_predicted_price'])\n",
    "df['percentage_error_ln'] = df['abs_error_ln'] / df['ln_price']\n",
    "\n",
    "df['abs_error_market_cap_ln'] = abs(df['ln_market_cap'] - df['predicted_ln_market_cap'])\n",
    "df['percentage_error_market_cap_ln'] = df['abs_error_market_cap_ln'] / df['ln_market_cap']"
   ]
  },
  {
   "cell_type": "code",
   "execution_count": null,
   "metadata": {},
   "outputs": [],
   "source": [
    "df.tail(200)"
   ]
  },
  {
   "cell_type": "code",
   "execution_count": null,
   "metadata": {},
   "outputs": [],
   "source": [
    "fig = plt.figure()\n",
    "ax = fig.add_axes([0, 0, 1, 1]) # main axes\n",
    "ax.plot(df['date'], df['predicted_price'], color=colors[2])\n",
    "ax.plot(df['date'], df['price'], color=colors[0])\n",
    "ax.set_title('Predicted vs actual BTC price')\n",
    "ax.legend(('predicted price','actual price'),\n",
    "    loc=\"upper left\",\n",
    "    ncol=1,\n",
    "    fontsize=8)\n",
    "\n",
    "ax.set_ylabel('BTC price')\n",
    "format = '${x:,.0f}'\n",
    "tick = ticker.StrMethodFormatter(format)\n",
    "ax.yaxis.set_major_formatter(tick)\n",
    "\n",
    "# place the credits\n",
    "ax.text(0.05, 0.15, propstext, transform=ax.transAxes, fontsize=10,\n",
    "    verticalalignment='bottom', bbox=propsbox)\n",
    "\n",
    "plt.grid(True, which=\"both\")\n",
    "plt.show()"
   ]
  },
  {
   "cell_type": "markdown",
   "execution_count": null,
   "metadata": {},
   "outputs": [],
   "source": [
    "![Stock-to-flow model for bitcoin price](images/5-predicted-v-actual.png)"
   ]
  },
  {
   "cell_type": "code",
   "execution_count": null,
   "metadata": {},
   "outputs": [],
   "source": [
    "fig = plt.figure()\n",
    "ax = fig.add_axes([0, 0, 1, 1]) # main axes\n",
    "ax.semilogy(df['date'], df['predicted_price'], color=colors[2])\n",
    "ax.semilogy(df['date'], df['price'], color=colors[0])\n",
    "ax.set_title('Predicted vs actual BTC price (log scales)')\n",
    "ax.legend(('predicted price','actual price'),\n",
    "    loc=\"upper left\",\n",
    "    ncol=1,\n",
    "    fontsize=8)\n",
    "\n",
    "ax.set_ylabel('BTC price')\n",
    "format = '${x:,.0f}'\n",
    "tick = ticker.StrMethodFormatter(format)\n",
    "ax.yaxis.set_major_formatter(tick)\n",
    "\n",
    "# place the credits\n",
    "ax.text(0.59, 0.05, propstext, transform=ax.transAxes, fontsize=10,\n",
    "    verticalalignment='bottom', bbox=propsbox)\n",
    "plt.grid(True, which=\"both\")\n",
    "plt.show()"
   ]
  },
  {
   "cell_type": "markdown",
   "execution_count": null,
   "metadata": {},
   "outputs": [],
   "source": [
    "![Stock-to-flow model for bitcoin price](images/5-predicted-v-actual-ln.png)"
   ]
  },
  {
   "cell_type": "markdown",
   "execution_count": null,
   "metadata": {},
   "outputs": [],
   "source": [
    "## Percentage of error over the logarithm of BTC price\n",
    "\n",
    "This shows that the SF model predicts very accurately the logarithm of the BTC price based on the logarithm of the SF value."
   ]
  },
  {
   "cell_type": "code",
   "execution_count": null,
   "metadata": {},
   "outputs": [],
   "source": [
    "fig = plt.figure()\n",
    "ax = fig.add_axes([0, 0, 1, 1]) # main axes\n",
    "ax.plot(df['date'], df['percentage_error_ln'])\n",
    "ax.set_title(\"Percentage of error of the SF model\")\n",
    "ax.set_ylabel(\"Percentage of error over ln(price BTC)\")\n",
    "ax.yaxis.set_major_formatter(ticker.FuncFormatter(lambda y, _: '{:.0%}'.format(y))) \n",
    "\n",
    "ax.set_ylim([0,1])\n",
    "# place the credits\n",
    "ax.text(0.59, 0.25, propstext, transform=ax.transAxes, fontsize=10,\n",
    "    verticalalignment='bottom', bbox=propsbox)\n",
    "plt.grid(True, which=\"both\")\n",
    "plt.show()"
   ]
  },
  {
   "cell_type": "markdown",
   "execution_count": null,
   "metadata": {},
   "outputs": [],
   "source": [
    "![Stock-to-flow model for bitcoin price](images/6-percentage-error-ln.png)"
   ]
  },
  {
   "cell_type": "markdown",
   "execution_count": null,
   "metadata": {},
   "outputs": [],
   "source": [
    "## Percentage of error over the BTC price\n",
    "\n",
    "Unfortunately, as we see here, the accurate prediction of the ln(BTC price) does not translate very well to the prediction of the BTC price."
   ]
  },
  {
   "cell_type": "code",
   "execution_count": null,
   "metadata": {},
   "outputs": [],
   "source": [
    "fig = plt.figure()\n",
    "ax = fig.add_axes([0, 0, 1, 1]) # main axes\n",
    "ax.plot(df['date'], df['percentage_error'])\n",
    "\n",
    "ax.set_title(\"Percentage of error of the SF model\")\n",
    "ax.set_xlabel(\"Year\")\n",
    "ax.set_ylabel(\"Percentage of error over BTC price\")\n",
    "ax.yaxis.set_major_formatter(ticker.FuncFormatter(lambda y, _: '{:.0%}'.format(y))) \n",
    "\n",
    "ax.set_ylim([0,2.5])\n",
    "# place the credits\n",
    "ax.text(0.59, 0.75, propstext, transform=ax.transAxes, fontsize=10,\n",
    "    verticalalignment='bottom', bbox=propsbox)\n",
    "plt.grid(True, which=\"both\")\n",
    "plt.show()"
   ]
  },
  {
   "cell_type": "markdown",
   "execution_count": null,
   "metadata": {},
   "outputs": [],
   "source": [
    "![Stock-to-flow model for bitcoin price](images/7-percentage-error.png)"
   ]
  },
  {
   "cell_type": "markdown",
   "execution_count": null,
   "metadata": {},
   "outputs": [],
   "source": [
    "## Plotting together predicted price and error"
   ]
  },
  {
   "cell_type": "code",
   "execution_count": null,
   "metadata": {},
   "outputs": [],
   "source": [
    "fig = plt.figure()\n",
    "ax = fig.add_axes([0, 0, 1, 1]) # main axes\n",
    "ax.semilogy(df['date'], df['predicted_price'], color=colors[2])\n",
    "ax.semilogy(df['date'], df['price'], color=colors[0])\n",
    "ax.set_title('Predicted vs actual BTC price (log scales), and error %')\n",
    "ax.legend(('predicted price','actual price'),\n",
    "    loc=\"bottom right\",\n",
    "    ncol=1,\n",
    "    fontsize=8)\n",
    "\n",
    "ax.set_ylabel('BTC price')\n",
    "format = '${x:,.0f}'\n",
    "tick = ticker.StrMethodFormatter(format)\n",
    "ax.yaxis.set_major_formatter(tick)\n",
    "\n",
    "\n",
    "# twin object for two different y-axis on the sample plot\n",
    "ax2=ax.twinx()\n",
    "# make a plot with different y-axis using second axis object\n",
    "ax2.plot(df['date'], df['percentage_error_ln'], color='gray')\n",
    "ax2.set_xlabel(\"Year\")\n",
    "ax2.set_ylabel(\"Percentage of error over ln(price BTC)\")\n",
    "ax2.yaxis.set_major_formatter(ticker.FuncFormatter(lambda y, _: '{:.0%}'.format(y))) \n",
    "ax2.set_ylim([0,1])\n",
    "\n",
    "# place the credits\n",
    "ax.text(0.59, 0.25, propstext, transform=ax.transAxes, fontsize=10,\n",
    "    verticalalignment='bottom', bbox=propsbox)\n",
    "plt.grid(True, which=\"both\")\n",
    "plt.show()"
   ]
  },
  {
   "cell_type": "markdown",
   "execution_count": null,
   "metadata": {},
   "outputs": [],
   "source": [
    "![Stock-to-flow model for bitcoin price](images/8-predicted-v-actual-v-error.png)"
   ]
  },
  {
   "cell_type": "markdown",
   "execution_count": null,
   "metadata": {},
   "outputs": [],
   "source": [
    "# Predictions for the future\n",
    "\n",
    "Let's expand the dataset with the normal rate of creation of blocks and fill the values with the prediction.\n",
    "\n",
    "For this part, we create range of dates between last date in the original dataframe and a few years later on. See the following variables to change the range at your will"
   ]
  },
  {
   "cell_type": "code",
   "execution_count": null,
   "metadata": {},
   "outputs": [],
   "source": [
    "day_increment = 3 # Change this if future datasets require different period\n",
    "years_in_the_future = 2 # Change this at will\n",
    "\n",
    "def get_btc_block_reward(block_number):\n",
    "    initial_reward = 50\n",
    "    blocks_per_halving = 210000\n",
    "    number_of_halvings = int(block_number/blocks_per_halving)\n",
    "    return initial_reward / pow(2,number_of_halvings)"
   ]
  },
  {
   "cell_type": "code",
   "execution_count": null,
   "metadata": {},
   "outputs": [],
   "source": [
    "df_future = pd.DataFrame()\n",
    "\n",
    "# blocks generated per day on average\n",
    "average_blocks_per_day = int(round(df[\"daily_blocks\"].mean(),0))\n",
    "last_known_amount_blocks = df['total_blocks'].max()\n",
    "last_known_amount_btc = df['total_btc'].max()\n",
    "\n",
    "# future dates\n",
    "periods = years_in_the_future * 365 / day_increment\n",
    "start_date = df.date.max() + timedelta(days=day_increment)\n",
    "future_dates = pd.date_range(start=start_date, periods=periods, freq=str(day_increment)+'D')\n",
    "\n",
    "# create a new df with the same structure of the current one\n",
    "# this way it's easier to merge both later if needed\n",
    "df_future = df.iloc[0:0]\n",
    "\n",
    "df_future['date'] = future_dates\n",
    "df_future['date'] = df_future['date'].dt.date\n",
    "df_future['daily_blocks'] = average_blocks_per_day\n",
    "df_future['total_blocks'] = (df_future['daily_blocks']*day_increment).cumsum() + last_known_amount_blocks\n",
    "df_future['btc_1day'] = df_future['total_blocks']\n",
    "df_future['btc_1day'] = df_future['btc_1day'].apply(lambda x: get_btc_block_reward(x)) * df_future['daily_blocks']\n",
    "df_future['total_btc'] = (df_future['btc_1day']*day_increment).cumsum() + last_known_amount_btc\n",
    "df_future['month'] = pd.to_datetime(df_future['date'])\n",
    "df_future['month'] = df_future['month'].dt.strftime('%Y-%m')\n",
    "\n",
    "# we need to concatenate with the df dataframe to make use of the values there\n",
    "df_future =  pd.concat([df, df_future])\n",
    "\n",
    "# This one has to be generated with data from the df dataframe\n",
    "df_future['btc_365days'] = df_future['btc_1day'].rolling(min_periods=1, window=int(366/day_increment)).sum()*day_increment\n",
    "\n",
    "# Now we derive everything else\n",
    "df_future['sf_365days'] = df_future['total_btc']/df_future['btc_365days']\n",
    "df_future['ln_sf_365days'] = np.log(df_future['sf_365days']) # natural log of SF 365\n",
    "\n",
    "df_future['predicted_ln_market_cap'] = regressor.coef_[0][0] * df_future['ln_sf_365days'] + regressor.intercept_[0]\n",
    "df_future['predicted_market_cap'] = np.exp(df_future['predicted_ln_market_cap'])\n",
    "df_future['predicted_price'] = df_future['predicted_market_cap'] / df_future['total_btc']\n",
    "df_future['ln_predicted_price'] = np.log(df_future['predicted_price'])\n",
    "\n",
    "# This is to retrieve the actual values which were modified by the wrangling we did with the future ones\n",
    "df1 = df_future.iloc[:df.shape[0], :]\n",
    "df2 = df_future.iloc[df.shape[0]:, :]\n",
    "df_future =  pd.concat([df, df2])\n",
    "#df_future.to_csv('df_future.csv')"
   ]
  },
  {
   "cell_type": "code",
   "execution_count": null,
   "metadata": {},
   "outputs": [],
   "source": [
    "fig = plt.figure()\n",
    "ax = fig.add_axes([0, 0, 1, 1]) # main axes\n",
    "ax.semilogy(df_future['date'], df_future['predicted_price'], color=colors[4])\n",
    "ax.semilogy(df_future['date'], df_future['price'], color=colors[0])\n",
    "ax.set_title('Predicted vs actual BTC price (log scales)')\n",
    "ax.legend(('predicted price','actual price'),\n",
    "    loc=\"upper left\",\n",
    "    ncol=1,\n",
    "    fontsize=8)\n",
    "\n",
    "ax.set_ylabel('BTC price')\n",
    "format = '${x:,.0f}'\n",
    "tick = ticker.StrMethodFormatter(format)\n",
    "ax.yaxis.set_major_formatter(tick)\n",
    "\n",
    "error = 0.3 * df_future['predicted_price']\n",
    "ax.fill_between(df_future['date'], df_future['predicted_price']-error, df_future['predicted_price']+error, alpha=.15, color='blue')\n",
    "error2 = 0.7 * df_future['predicted_price']\n",
    "ax.fill_between(df_future['date'], df_future['predicted_price']-error2, df_future['predicted_price']+error2, alpha=.07, color='blue')\n",
    "# \n",
    "function_text = 'ln(Market cap) = ' + str(round(regressor.coef_[0][0],2)) + '*ln(SF) + ' + str(round(regressor.intercept_[0],2))\n",
    "box = dict(boxstyle='round', facecolor='beige', alpha=0.5)\n",
    "# place a text box\n",
    "ax.text(0.45, 0.18, function_text, transform=ax.transAxes, fontsize=12,\n",
    "    verticalalignment='bottom', bbox=box)\n",
    "\n",
    "# place the credits\n",
    "ax.text(0.59, 0.05, propstext, transform=ax.transAxes, fontsize=10,\n",
    "    verticalalignment='bottom', bbox=propsbox)\n",
    "plt.grid(True, which=\"both\")\n",
    "plt.show()"
   ]
  },
  {
   "cell_type": "markdown",
   "execution_count": null,
   "metadata": {},
   "outputs": [],
   "source": [
    "![Stock-to-flow model for bitcoin price](images/9-predicted-future.png)"
   ]
  },
  {
   "cell_type": "markdown",
   "execution_count": null,
   "metadata": {},
   "outputs": [],
   "source": [
    "# Conclusions\n",
    "\n",
    "As you can see in the previous charts and regression data, the original work of PlanB has been replicated successfully.\n",
    "Not only that, I used a dataset 10 times bigger than the original one and the logarithmic relationship between SF and Market capitalization of bitcoin holds (he used the average value of BTC per month, while we have used one data point each 3 days).\n",
    "In this case, the value of the linear relationship are only slighly different:\n",
    "\n",
    "```\n",
    "ln(Market cap) = 3.56*ln(SF) + 14.09\n",
    "```\n",
    "\n",
    "The SF model for BTC price predicts very accurately the logarithm of the BTC price based on the logarithm of the SF value, with an error of less than 20% most of the time. However, this accurate prediction does not translate well to the prediction of the BTC price, which ranges wildly from very low error to values in the range of 100% / 200%.\n",
    "\n",
    "Additionally, it also encouraging that the work done here has used different sources of data and tools than the ones he used in PlanB's paper.\n",
    "The price dataset used in this exercise has limited the granularity to at least one datapoint each 3 days. As soon as more data are available, we can run this again and obtain updated results.\n",
    "\n",
    "\n"
   ]
  },
  {
   "cell_type": "markdown",
   "execution_count": null,
   "metadata": {},
   "outputs": [],
   "source": [
    "# References\n",
    "\n",
    "\\[1\\] Modeling Bitcoin's Value with Scarcity\n",
    "\n",
    "https://medium.com/@100trillionUSD/modeling-bitcoins-value-with-scarcity-91fa0fc03e25\n",
    "\n",
    "\\[2\\] Building a bitcoin dataset\n",
    "\n",
    "https://medium.com/burgercrypto-com/building-a-bitcoin-dataset-b2f526d667ce\n",
    "\n",
    "\\[3\\] Aggregation and grouping data\n",
    "\n",
    "https://www.shanelynn.ie/summarising-aggregation-and-grouping-data-in-python-pandas/\n",
    "\n",
    "\\[4\\] Joining and merging dataframes in pandas\n",
    "\n",
    "https://chrisalbon.com/python/data_wrangling/pandas_join_merge_dataframe/\n",
    "\n",
    "\\[5\\] A beginner's guide to linear regression\n",
    "\n",
    "https://towardsdatascience.com/a-beginners-guide-to-linear-regression-in-python-with-scikit-learn-83a8f7ae2b4f\n",
    "\n",
    "\\[6\\] How to make histograms in Python\n",
    "\n",
    "https://cmdlinetips.com/2019/02/how-to-make-histogram-in-python-with-pandas-and-seaborn/\n",
    "\n",
    "\\[7\\] API reference for the Axes class for plotting\n",
    "\n",
    "https://matplotlib.org/3.1.0/api/axes_api.html"
   ]
  }
 ]
}